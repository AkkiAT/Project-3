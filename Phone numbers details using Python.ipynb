{
 "cells": [
  {
   "cell_type": "code",
   "execution_count": 6,
   "metadata": {},
   "outputs": [],
   "source": [
    "#Find Phone number details using python\n",
    "import phonenumbers\n"
   ]
  },
  {
   "cell_type": "code",
   "execution_count": 8,
   "metadata": {},
   "outputs": [
    {
     "name": "stdout",
     "output_type": "stream",
     "text": [
      "Country Code: 91 National Number: 9990044414\n",
      "('Asia/Calcutta',)\n",
      "Idea\n",
      "India\n"
     ]
    }
   ],
   "source": [
    "from phonenumbers import timezone,geocoder,carrier\n",
    "numbers=input(\"Enter the number here with +: \")\n",
    "phone=phonenumbers.parse(numbers)\n",
    "time=timezone.time_zones_for_number(phone)\n",
    "car=carrier.name_for_number(phone,\"en\")\n",
    "reg=geocoder.description_for_number(phone,\"en\")\n",
    "print(phone)\n",
    "print(time)\n",
    "print(car)\n",
    "print(reg)"
   ]
  }
 ],
 "metadata": {
  "kernelspec": {
   "display_name": "Python 3",
   "language": "python",
   "name": "python3"
  },
  "language_info": {
   "codemirror_mode": {
    "name": "ipython",
    "version": 3
   },
   "file_extension": ".py",
   "mimetype": "text/x-python",
   "name": "python",
   "nbconvert_exporter": "python",
   "pygments_lexer": "ipython3",
   "version": "3.12.2"
  }
 },
 "nbformat": 4,
 "nbformat_minor": 2
}
